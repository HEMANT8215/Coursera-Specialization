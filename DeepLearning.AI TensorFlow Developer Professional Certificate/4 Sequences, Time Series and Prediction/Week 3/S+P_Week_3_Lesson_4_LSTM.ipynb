{
 "cells": [
  {
   "cell_type": "code",
   "execution_count": 1,
   "metadata": {
    "id": "zX4Kg8DUTKWO"
   },
   "outputs": [],
   "source": [
    "#@title Licensed under the Apache License, Version 2.0 (the \"License\");\n",
    "# you may not use this file except in compliance with the License.\n",
    "# You may obtain a copy of the License at\n",
    "#\n",
    "# https://www.apache.org/licenses/LICENSE-2.0\n",
    "#\n",
    "# Unless required by applicable law or agreed to in writing, software\n",
    "# distributed under the License is distributed on an \"AS IS\" BASIS,\n",
    "# WITHOUT WARRANTIES OR CONDITIONS OF ANY KIND, either express or implied.\n",
    "# See the License for the specific language governing permissions and\n",
    "# limitations under the License."
   ]
  },
  {
   "cell_type": "code",
   "execution_count": 2,
   "metadata": {
    "id": "D1J15Vh_1Jih"
   },
   "outputs": [
    {
     "name": "stdout",
     "output_type": "stream",
     "text": [
      "\u001b[31mERROR: Could not find a version that satisfies the requirement tf-nightly-2.0-preview (from versions: none)\u001b[0m\r\n",
      "\u001b[31mERROR: No matching distribution found for tf-nightly-2.0-preview\u001b[0m\r\n"
     ]
    }
   ],
   "source": [
    "!pip install tf-nightly-2.0-preview\n"
   ]
  },
  {
   "cell_type": "code",
   "execution_count": 3,
   "metadata": {
    "colab": {
     "base_uri": "https://localhost:8080/",
     "height": 35
    },
    "id": "BOjujz601HcS",
    "outputId": "aa0651c4-b24e-4e1e-936c-e31004fa751b"
   },
   "outputs": [
    {
     "name": "stdout",
     "output_type": "stream",
     "text": [
      "2.3.1\n"
     ]
    }
   ],
   "source": [
    "import tensorflow as tf\n",
    "import numpy as np\n",
    "import matplotlib.pyplot as plt\n",
    "print(tf.__version__)"
   ]
  },
  {
   "cell_type": "code",
   "execution_count": 4,
   "metadata": {
    "id": "Zswl7jRtGzkk"
   },
   "outputs": [],
   "source": [
    "def plot_series(time, series, format=\"-\", start=0, end=None):\n",
    "    plt.plot(time[start:end], series[start:end], format)\n",
    "    plt.xlabel(\"Time\")\n",
    "    plt.ylabel(\"Value\")\n",
    "    plt.grid(True)\n",
    "\n",
    "def trend(time, slope=0):\n",
    "    return slope * time\n",
    "\n",
    "def seasonal_pattern(season_time):\n",
    "    \"\"\"Just an arbitrary pattern, you can change it if you wish\"\"\"\n",
    "    return np.where(season_time < 0.4,\n",
    "                    np.cos(season_time * 2 * np.pi),\n",
    "                    1 / np.exp(3 * season_time))\n",
    "\n",
    "def seasonality(time, period, amplitude=1, phase=0):\n",
    "    \"\"\"Repeats the same pattern at each period\"\"\"\n",
    "    season_time = ((time + phase) % period) / period\n",
    "    return amplitude * seasonal_pattern(season_time)\n",
    "\n",
    "def noise(time, noise_level=1, seed=None):\n",
    "    rnd = np.random.RandomState(seed)\n",
    "    return rnd.randn(len(time)) * noise_level\n",
    "\n",
    "time = np.arange(4 * 365 + 1, dtype=\"float32\")\n",
    "baseline = 10\n",
    "series = trend(time, 0.1)  \n",
    "baseline = 10\n",
    "amplitude = 40\n",
    "slope = 0.05\n",
    "noise_level = 5\n",
    "\n",
    "# Create the series\n",
    "series = baseline + trend(time, slope) + seasonality(time, period=365, amplitude=amplitude)\n",
    "# Update with noise\n",
    "series += noise(time, noise_level, seed=42)\n",
    "\n",
    "split_time = 1000\n",
    "time_train = time[:split_time]\n",
    "x_train = series[:split_time]\n",
    "time_valid = time[split_time:]\n",
    "x_valid = series[split_time:]\n",
    "\n",
    "window_size = 20\n",
    "batch_size = 32\n",
    "shuffle_buffer_size = 1000"
   ]
  },
  {
   "cell_type": "code",
   "execution_count": 5,
   "metadata": {
    "id": "4sTTIOCbyShY"
   },
   "outputs": [],
   "source": [
    "def windowed_dataset(series, window_size, batch_size, shuffle_buffer):\n",
    "  dataset = tf.data.Dataset.from_tensor_slices(series)\n",
    "  dataset = dataset.window(window_size + 1, shift=1, drop_remainder=True)\n",
    "  dataset = dataset.flat_map(lambda window: window.batch(window_size + 1))\n",
    "  dataset = dataset.shuffle(shuffle_buffer).map(lambda window: (window[:-1], window[-1]))\n",
    "  dataset = dataset.batch(batch_size).prefetch(1)\n",
    "  return dataset"
   ]
  },
  {
   "cell_type": "code",
   "execution_count": 6,
   "metadata": {
    "colab": {
     "base_uri": "https://localhost:8080/",
     "height": 1000
    },
    "id": "A1Hl39rklkLm",
    "outputId": "75cbaf63-f635-4dd1-96fd-b4e1d6fd94bb"
   },
   "outputs": [
    {
     "name": "stdout",
     "output_type": "stream",
     "text": [
      "Epoch 1/100\n",
      "31/31 [==============================] - 1s 21ms/step - loss: 21.5167 - mae: 22.0115\n",
      "Epoch 2/100\n",
      "31/31 [==============================] - 1s 20ms/step - loss: 21.1522 - mae: 21.6444\n",
      "Epoch 3/100\n",
      "31/31 [==============================] - 1s 20ms/step - loss: 20.7302 - mae: 21.2236\n",
      "Epoch 4/100\n",
      "31/31 [==============================] - 1s 20ms/step - loss: 20.2834 - mae: 20.7757\n",
      "Epoch 5/100\n",
      "31/31 [==============================] - 1s 23ms/step - loss: 19.7897 - mae: 20.2855\n",
      "Epoch 6/100\n",
      "31/31 [==============================] - 1s 21ms/step - loss: 19.1782 - mae: 19.6696\n",
      "Epoch 7/100\n",
      "31/31 [==============================] - 1s 20ms/step - loss: 18.2410 - mae: 18.7333\n",
      "Epoch 8/100\n",
      "31/31 [==============================] - 1s 22ms/step - loss: 17.4825 - mae: 17.9748\n",
      "Epoch 9/100\n",
      "31/31 [==============================] - 1s 21ms/step - loss: 17.1597 - mae: 17.6529\n",
      "Epoch 10/100\n",
      "31/31 [==============================] - 1s 21ms/step - loss: 16.8547 - mae: 17.3463\n",
      "Epoch 11/100\n",
      "31/31 [==============================] - 1s 21ms/step - loss: 16.5533 - mae: 17.0471\n",
      "Epoch 12/100\n",
      "31/31 [==============================] - 1s 21ms/step - loss: 16.2565 - mae: 16.7524\n",
      "Epoch 13/100\n",
      "31/31 [==============================] - 1s 21ms/step - loss: 15.9629 - mae: 16.4598\n",
      "Epoch 14/100\n",
      "31/31 [==============================] - 1s 21ms/step - loss: 15.6593 - mae: 16.1548\n",
      "Epoch 15/100\n",
      "31/31 [==============================] - 1s 21ms/step - loss: 15.3713 - mae: 15.8652\n",
      "Epoch 16/100\n",
      "31/31 [==============================] - 1s 21ms/step - loss: 15.0752 - mae: 15.5697\n",
      "Epoch 17/100\n",
      "31/31 [==============================] - 1s 20ms/step - loss: 14.7905 - mae: 15.2869\n",
      "Epoch 18/100\n",
      "31/31 [==============================] - 1s 20ms/step - loss: 14.5229 - mae: 15.0178\n",
      "Epoch 19/100\n",
      "31/31 [==============================] - 1s 20ms/step - loss: 14.2707 - mae: 14.7636\n",
      "Epoch 20/100\n",
      "31/31 [==============================] - 1s 19ms/step - loss: 14.0293 - mae: 14.5217\n",
      "Epoch 21/100\n",
      "31/31 [==============================] - 1s 23ms/step - loss: 13.8191 - mae: 14.3135\n",
      "Epoch 22/100\n",
      "31/31 [==============================] - 1s 20ms/step - loss: 13.6084 - mae: 14.1032\n",
      "Epoch 23/100\n",
      "31/31 [==============================] - 1s 20ms/step - loss: 13.4096 - mae: 13.9038\n",
      "Epoch 24/100\n",
      "31/31 [==============================] - 1s 21ms/step - loss: 13.1859 - mae: 13.6794\n",
      "Epoch 25/100\n",
      "31/31 [==============================] - 1s 21ms/step - loss: 12.9819 - mae: 13.4747\n",
      "Epoch 26/100\n",
      "31/31 [==============================] - 1s 19ms/step - loss: 12.7278 - mae: 13.2184\n",
      "Epoch 27/100\n",
      "31/31 [==============================] - 1s 22ms/step - loss: 12.4886 - mae: 12.9799\n",
      "Epoch 28/100\n",
      "31/31 [==============================] - 1s 20ms/step - loss: 12.3459 - mae: 12.8362\n",
      "Epoch 29/100\n",
      "31/31 [==============================] - 1s 21ms/step - loss: 11.9127 - mae: 12.4017\n",
      "Epoch 30/100\n",
      "31/31 [==============================] - 1s 20ms/step - loss: 11.5934 - mae: 12.0835\n",
      "Epoch 31/100\n",
      "31/31 [==============================] - 1s 20ms/step - loss: 11.2859 - mae: 11.7771\n",
      "Epoch 32/100\n",
      "31/31 [==============================] - 1s 21ms/step - loss: 11.3520 - mae: 11.8418\n",
      "Epoch 33/100\n",
      "31/31 [==============================] - 1s 20ms/step - loss: 10.5232 - mae: 11.0140\n",
      "Epoch 34/100\n",
      "31/31 [==============================] - 1s 20ms/step - loss: 10.5453 - mae: 11.0331\n",
      "Epoch 35/100\n",
      "31/31 [==============================] - 1s 22ms/step - loss: 10.0772 - mae: 10.5622\n",
      "Epoch 36/100\n",
      "31/31 [==============================] - 1s 20ms/step - loss: 9.5217 - mae: 10.0104\n",
      "Epoch 37/100\n",
      "31/31 [==============================] - 1s 20ms/step - loss: 10.0236 - mae: 10.5132\n",
      "Epoch 38/100\n",
      "31/31 [==============================] - 1s 21ms/step - loss: 9.8575 - mae: 10.3452\n",
      "Epoch 39/100\n",
      "31/31 [==============================] - 1s 20ms/step - loss: 9.2702 - mae: 9.7532\n",
      "Epoch 40/100\n",
      "31/31 [==============================] - 1s 21ms/step - loss: 8.7736 - mae: 9.2597\n",
      "Epoch 41/100\n",
      "31/31 [==============================] - 1s 21ms/step - loss: 8.3232 - mae: 8.8082\n",
      "Epoch 42/100\n",
      "31/31 [==============================] - 1s 19ms/step - loss: 7.9573 - mae: 8.4413\n",
      "Epoch 43/100\n",
      "31/31 [==============================] - 1s 19ms/step - loss: 7.6373 - mae: 8.1207\n",
      "Epoch 44/100\n",
      "31/31 [==============================] - 1s 20ms/step - loss: 7.3900 - mae: 7.8753\n",
      "Epoch 45/100\n",
      "31/31 [==============================] - 1s 20ms/step - loss: 7.2115 - mae: 7.6956\n",
      "Epoch 46/100\n",
      "31/31 [==============================] - 1s 20ms/step - loss: 6.9481 - mae: 7.4320\n",
      "Epoch 47/100\n",
      "31/31 [==============================] - 1s 21ms/step - loss: 6.7149 - mae: 7.1992\n",
      "Epoch 48/100\n",
      "31/31 [==============================] - 1s 19ms/step - loss: 6.6007 - mae: 7.0827\n",
      "Epoch 49/100\n",
      "31/31 [==============================] - 1s 20ms/step - loss: 6.2287 - mae: 6.7057\n",
      "Epoch 50/100\n",
      "31/31 [==============================] - 1s 19ms/step - loss: 6.0534 - mae: 6.5310\n",
      "Epoch 51/100\n",
      "31/31 [==============================] - 1s 20ms/step - loss: 5.9235 - mae: 6.4023\n",
      "Epoch 52/100\n",
      "31/31 [==============================] - 1s 20ms/step - loss: 5.7896 - mae: 6.2715\n",
      "Epoch 53/100\n",
      "31/31 [==============================] - 1s 20ms/step - loss: 5.6420 - mae: 6.1223\n",
      "Epoch 54/100\n",
      "31/31 [==============================] - 1s 21ms/step - loss: 5.5321 - mae: 6.0074\n",
      "Epoch 55/100\n",
      "31/31 [==============================] - 1s 20ms/step - loss: 5.4087 - mae: 5.8800\n",
      "Epoch 56/100\n",
      "31/31 [==============================] - 1s 20ms/step - loss: 5.5650 - mae: 6.0363\n",
      "Epoch 57/100\n",
      "31/31 [==============================] - 1s 20ms/step - loss: 5.3023 - mae: 5.7803\n",
      "Epoch 58/100\n",
      "31/31 [==============================] - 1s 19ms/step - loss: 5.3015 - mae: 5.7838\n",
      "Epoch 59/100\n",
      "31/31 [==============================] - 1s 21ms/step - loss: 5.1555 - mae: 5.6345\n",
      "Epoch 60/100\n",
      "31/31 [==============================] - 1s 20ms/step - loss: 5.0536 - mae: 5.5257\n",
      "Epoch 61/100\n",
      "31/31 [==============================] - 1s 20ms/step - loss: 5.3164 - mae: 5.7928\n",
      "Epoch 62/100\n",
      "31/31 [==============================] - 1s 20ms/step - loss: 5.2048 - mae: 5.6831\n",
      "Epoch 63/100\n",
      "31/31 [==============================] - 1s 22ms/step - loss: 5.1056 - mae: 5.5815\n",
      "Epoch 64/100\n",
      "31/31 [==============================] - 1s 21ms/step - loss: 4.8402 - mae: 5.3127\n",
      "Epoch 65/100\n",
      "31/31 [==============================] - 1s 20ms/step - loss: 5.1488 - mae: 5.6312\n",
      "Epoch 66/100\n",
      "31/31 [==============================] - 1s 20ms/step - loss: 5.3902 - mae: 5.8737\n",
      "Epoch 67/100\n",
      "31/31 [==============================] - 1s 21ms/step - loss: 6.0329 - mae: 6.5125\n",
      "Epoch 68/100\n",
      "31/31 [==============================] - 1s 20ms/step - loss: 5.2234 - mae: 5.7061\n",
      "Epoch 69/100\n",
      "31/31 [==============================] - 1s 21ms/step - loss: 5.6412 - mae: 6.1229\n",
      "Epoch 70/100\n",
      "31/31 [==============================] - 1s 20ms/step - loss: 5.2551 - mae: 5.7367\n",
      "Epoch 71/100\n",
      "31/31 [==============================] - 1s 20ms/step - loss: 5.6642 - mae: 6.1460\n",
      "Epoch 72/100\n",
      "31/31 [==============================] - 1s 20ms/step - loss: 5.4174 - mae: 5.8943\n",
      "Epoch 73/100\n",
      "31/31 [==============================] - 1s 20ms/step - loss: 6.8020 - mae: 7.2896\n",
      "Epoch 74/100\n",
      "31/31 [==============================] - 1s 21ms/step - loss: 5.2648 - mae: 5.7440\n",
      "Epoch 75/100\n",
      "31/31 [==============================] - 1s 21ms/step - loss: 5.3521 - mae: 5.8339\n",
      "Epoch 76/100\n",
      "31/31 [==============================] - 1s 21ms/step - loss: 5.2939 - mae: 5.7731\n",
      "Epoch 77/100\n",
      "31/31 [==============================] - 1s 20ms/step - loss: 7.3981 - mae: 7.8834\n",
      "Epoch 78/100\n",
      "31/31 [==============================] - 1s 20ms/step - loss: 5.8288 - mae: 6.3076\n",
      "Epoch 79/100\n",
      "31/31 [==============================] - 1s 21ms/step - loss: 5.7777 - mae: 6.2622\n",
      "Epoch 80/100\n",
      "31/31 [==============================] - 1s 21ms/step - loss: 6.3429 - mae: 6.8241\n",
      "Epoch 81/100\n",
      "31/31 [==============================] - 1s 20ms/step - loss: 6.7468 - mae: 7.2365\n",
      "Epoch 82/100\n",
      "31/31 [==============================] - 1s 21ms/step - loss: 5.8571 - mae: 6.3401\n",
      "Epoch 83/100\n",
      "31/31 [==============================] - 1s 20ms/step - loss: 5.9993 - mae: 6.4815\n",
      "Epoch 84/100\n",
      "31/31 [==============================] - 1s 20ms/step - loss: 7.6076 - mae: 8.0923\n",
      "Epoch 85/100\n"
     ]
    },
    {
     "name": "stdout",
     "output_type": "stream",
     "text": [
      "31/31 [==============================] - 1s 20ms/step - loss: 5.4274 - mae: 5.9104\n",
      "Epoch 86/100\n",
      "31/31 [==============================] - 1s 21ms/step - loss: 6.4757 - mae: 6.9602\n",
      "Epoch 87/100\n",
      "31/31 [==============================] - 1s 21ms/step - loss: 6.9239 - mae: 7.4063\n",
      "Epoch 88/100\n",
      "31/31 [==============================] - 1s 20ms/step - loss: 9.0515 - mae: 9.5412\n",
      "Epoch 89/100\n",
      "31/31 [==============================] - 1s 20ms/step - loss: 8.2747 - mae: 8.7634\n",
      "Epoch 90/100\n",
      "31/31 [==============================] - 1s 21ms/step - loss: 7.9352 - mae: 8.4211\n",
      "Epoch 91/100\n",
      "31/31 [==============================] - 1s 22ms/step - loss: 6.2396 - mae: 6.7200\n",
      "Epoch 92/100\n",
      "31/31 [==============================] - 1s 20ms/step - loss: 7.1264 - mae: 7.6114\n",
      "Epoch 93/100\n",
      "31/31 [==============================] - 1s 21ms/step - loss: 7.6846 - mae: 8.1667\n",
      "Epoch 94/100\n",
      "31/31 [==============================] - 1s 21ms/step - loss: 7.4152 - mae: 7.9028\n",
      "Epoch 95/100\n",
      "31/31 [==============================] - 1s 20ms/step - loss: 7.0572 - mae: 7.5442\n",
      "Epoch 96/100\n",
      "31/31 [==============================] - 1s 21ms/step - loss: 9.2790 - mae: 9.7700\n",
      "Epoch 97/100\n",
      "31/31 [==============================] - 1s 21ms/step - loss: 8.5245 - mae: 9.0138\n",
      "Epoch 98/100\n",
      "31/31 [==============================] - 1s 19ms/step - loss: 7.5383 - mae: 8.0249\n",
      "Epoch 99/100\n",
      "31/31 [==============================] - 1s 20ms/step - loss: 10.6914 - mae: 11.1822\n",
      "Epoch 100/100\n",
      "31/31 [==============================] - 1s 20ms/step - loss: 16.6864 - mae: 17.1778\n"
     ]
    }
   ],
   "source": [
    "tf.keras.backend.clear_session()\n",
    "tf.random.set_seed(51)\n",
    "np.random.seed(51)\n",
    "\n",
    "tf.keras.backend.clear_session()\n",
    "dataset = windowed_dataset(x_train, window_size, batch_size, shuffle_buffer_size)\n",
    "\n",
    "model = tf.keras.models.Sequential([\n",
    "  tf.keras.layers.Lambda(lambda x: tf.expand_dims(x, axis=-1),\n",
    "                      input_shape=[None]),\n",
    "    tf.keras.layers.Bidirectional(tf.keras.layers.LSTM(32, return_sequences=True)),\n",
    "  tf.keras.layers.Bidirectional(tf.keras.layers.LSTM(32)),\n",
    "  tf.keras.layers.Dense(1),\n",
    "  tf.keras.layers.Lambda(lambda x: x * 100.0)\n",
    "])\n",
    "\n",
    "lr_schedule = tf.keras.callbacks.LearningRateScheduler(\n",
    "    lambda epoch: 1e-8 * 10**(epoch / 20))\n",
    "optimizer = tf.keras.optimizers.SGD(lr=1e-8, momentum=0.9)\n",
    "model.compile(loss=tf.keras.losses.Huber(),\n",
    "              optimizer=optimizer,\n",
    "              metrics=[\"mae\"])\n",
    "history = model.fit(dataset, epochs=100, callbacks=[lr_schedule])"
   ]
  },
  {
   "cell_type": "code",
   "execution_count": 7,
   "metadata": {
    "colab": {
     "base_uri": "https://localhost:8080/",
     "height": 291
    },
    "id": "AkBsrsXMzoWR",
    "outputId": "99a3f57b-9145-4802-8256-401a54b238e7"
   },
   "outputs": [
    {
     "data": {
      "text/plain": [
       "(1e-08, 0.0001, 0.0, 30.0)"
      ]
     },
     "execution_count": 7,
     "metadata": {},
     "output_type": "execute_result"
    },
    {
     "data": {
      "image/png": "[encoded data removed]",
      "text/plain": [
       "<Figure size 432x288 with 1 Axes>"
      ]
     },
     "metadata": {
      "needs_background": "light"
     },
     "output_type": "display_data"
    }
   ],
   "source": [
    "plt.semilogx(history.history[\"lr\"], history.history[\"loss\"])\n",
    "plt.axis([1e-8, 1e-4, 0, 30])"
   ]
  },
  {
   "cell_type": "code",
   "execution_count": 8,
   "metadata": {
    "id": "4uh-97bpLZCA"
   },
   "outputs": [],
   "source": [
    "tf.keras.backend.clear_session()\n",
    "tf.random.set_seed(51)\n",
    "np.random.seed(51)\n",
    "\n",
    "tf.keras.backend.clear_session()\n",
    "dataset = windowed_dataset(x_train, window_size, batch_size, shuffle_buffer_size)\n",
    "\n",
    "model = tf.keras.models.Sequential([\n",
    "  tf.keras.layers.Lambda(lambda x: tf.expand_dims(x, axis=-1),\n",
    "                      input_shape=[None]),\n",
    "   tf.keras.layers.Bidirectional(tf.keras.layers.LSTM(32, return_sequences=True)),\n",
    "  tf.keras.layers.Bidirectional(tf.keras.layers.LSTM(32)),\n",
    "  tf.keras.layers.Dense(1),\n",
    "  tf.keras.layers.Lambda(lambda x: x * 100.0)\n",
    "])\n",
    "\n",
    "\n",
    "model.compile(loss=\"mse\", optimizer=tf.keras.optimizers.SGD(lr=1e-5, momentum=0.9),metrics=[\"mae\"])\n",
    "history = model.fit(dataset,epochs=500,verbose=0)"
   ]
  },
  {
   "cell_type": "code",
   "execution_count": 9,
   "metadata": {
    "colab": {
     "base_uri": "https://localhost:8080/",
     "height": 393
    },
    "id": "icGDaND7z0ne",
    "outputId": "58b69d1a-82d2-457b-9342-42ceb24b35da"
   },
   "outputs": [
    {
     "data": {
      "image/png": "[encoded data removed]",
      "text/plain": [
       "<Figure size 720x432 with 1 Axes>"
      ]
     },
     "metadata": {
      "needs_background": "light"
     },
     "output_type": "display_data"
    }
   ],
   "source": [
    "forecast = []\n",
    "results = []\n",
    "for time in range(len(series) - window_size):\n",
    "  forecast.append(model.predict(series[time:time + window_size][np.newaxis]))\n",
    "\n",
    "forecast = forecast[split_time-window_size:]\n",
    "results = np.array(forecast)[:, 0, 0]\n",
    "\n",
    "\n",
    "plt.figure(figsize=(10, 6))\n",
    "\n",
    "plot_series(time_valid, x_valid)\n",
    "plot_series(time_valid, results)"
   ]
  },
  {
   "cell_type": "code",
   "execution_count": 10,
   "metadata": {
    "colab": {
     "base_uri": "https://localhost:8080/",
     "height": 35
    },
    "id": "KfPeqI7rz4LD",
    "outputId": "816335be-fd2a-428f-98d6-05983b84d9b5"
   },
   "outputs": [
    {
     "data": {
      "text/plain": [
       "5.5388513"
      ]
     },
     "execution_count": 10,
     "metadata": {},
     "output_type": "execute_result"
    }
   ],
   "source": [
    "tf.keras.metrics.mean_absolute_error(x_valid, results).numpy()"
   ]
  },
  {
   "cell_type": "code",
   "execution_count": 11,
   "metadata": {
    "colab": {
     "base_uri": "https://localhost:8080/",
     "height": 235
    },
    "id": "JUsdZB_tzDLe",
    "outputId": "964c47d9-7eec-42cd-905f-c45c2fd31d9e"
   },
   "outputs": [
    {
     "data": {
      "text/plain": [
       "<Figure size 432x288 with 0 Axes>"
      ]
     },
     "execution_count": 11,
     "metadata": {},
     "output_type": "execute_result"
    },
    {
     "data": {
      "image/png": "[encoded data removed]",
      "text/plain": [
       "<Figure size 432x288 with 1 Axes>"
      ]
     },
     "metadata": {
      "needs_background": "light"
     },
     "output_type": "display_data"
    },
    {
     "data": {
      "image/png": "[encoded data removed]",
      "text/plain": [
       "<Figure size 432x288 with 1 Axes>"
      ]
     },
     "metadata": {
      "needs_background": "light"
     },
     "output_type": "display_data"
    },
    {
     "data": {
      "text/plain": [
       "<Figure size 432x288 with 0 Axes>"
      ]
     },
     "metadata": {},
     "output_type": "display_data"
    }
   ],
   "source": [
    "import matplotlib.image  as mpimg\n",
    "import matplotlib.pyplot as plt\n",
    "\n",
    "#-----------------------------------------------------------\n",
    "# Retrieve a list of list results on training and test data\n",
    "# sets for each training epoch\n",
    "#-----------------------------------------------------------\n",
    "mae=history.history['mae']\n",
    "loss=history.history['loss']\n",
    "\n",
    "epochs=range(len(loss)) # Get number of epochs\n",
    "\n",
    "#------------------------------------------------\n",
    "# Plot MAE and Loss\n",
    "#------------------------------------------------\n",
    "plt.plot(epochs, mae, 'r')\n",
    "plt.plot(epochs, loss, 'b')\n",
    "plt.title('MAE and Loss')\n",
    "plt.xlabel(\"Epochs\")\n",
    "plt.ylabel(\"Accuracy\")\n",
    "plt.legend([\"MAE\", \"Loss\"])\n",
    "\n",
    "plt.figure()\n",
    "\n",
    "epochs_zoom = epochs[200:]\n",
    "mae_zoom = mae[200:]\n",
    "loss_zoom = loss[200:]\n",
    "\n",
    "#------------------------------------------------\n",
    "# Plot Zoomed MAE and Loss\n",
    "#------------------------------------------------\n",
    "plt.plot(epochs_zoom, mae_zoom, 'r')\n",
    "plt.plot(epochs_zoom, loss_zoom, 'b')\n",
    "plt.title('MAE and Loss')\n",
    "plt.xlabel(\"Epochs\")\n",
    "plt.ylabel(\"Accuracy\")\n",
    "plt.legend([\"MAE\", \"Loss\"])\n",
    "\n",
    "plt.figure()"
   ]
  },
  {
   "cell_type": "code",
   "execution_count": 12,
   "metadata": {
    "id": "3CGaYFxXNEAK"
   },
   "outputs": [
    {
     "data": {
      "text/plain": [
       "<tensorflow.python.keras.callbacks.History at 0x7fa12d4764c0>"
      ]
     },
     "execution_count": 12,
     "metadata": {},
     "output_type": "execute_result"
    }
   ],
   "source": [
    "tf.keras.backend.clear_session()\n",
    "dataset = windowed_dataset(x_train, window_size, batch_size, shuffle_buffer_size)\n",
    "\n",
    "model = tf.keras.models.Sequential([\n",
    "  tf.keras.layers.Lambda(lambda x: tf.expand_dims(x, axis=-1),\n",
    "                      input_shape=[None]),\n",
    "  tf.keras.layers.Bidirectional(tf.keras.layers.LSTM(32, return_sequences=True)),\n",
    "  tf.keras.layers.Bidirectional(tf.keras.layers.LSTM(32)),\n",
    "  tf.keras.layers.Dense(1),\n",
    "  tf.keras.layers.Lambda(lambda x: x * 100.0)\n",
    "])\n",
    "\n",
    "\n",
    "model.compile(loss=\"mse\", optimizer=tf.keras.optimizers.SGD(lr=1e-6, momentum=0.9))\n",
    "model.fit(dataset,epochs=100, verbose=0)"
   ]
  },
  {
   "cell_type": "code",
   "execution_count": 13,
   "metadata": {
    "id": "FJ3R8ysauz9e"
   },
   "outputs": [
    {
     "name": "stdout",
     "output_type": "stream",
     "text": [
      "Epoch 1/100\n",
      "31/31 [==============================] - 1s 36ms/step - loss: 755.7012\n",
      "Epoch 2/100\n",
      "31/31 [==============================] - 1s 35ms/step - loss: 152.7785\n",
      "Epoch 3/100\n",
      "31/31 [==============================] - 1s 36ms/step - loss: 97.9761\n",
      "Epoch 4/100\n",
      "31/31 [==============================] - 1s 36ms/step - loss: 83.2915\n",
      "Epoch 5/100\n",
      "31/31 [==============================] - 1s 36ms/step - loss: 78.2600\n",
      "Epoch 6/100\n",
      "31/31 [==============================] - 1s 37ms/step - loss: 73.4347\n",
      "Epoch 7/100\n",
      "31/31 [==============================] - 1s 35ms/step - loss: 67.8632\n",
      "Epoch 8/100\n",
      "31/31 [==============================] - 1s 36ms/step - loss: 74.5354\n",
      "Epoch 9/100\n",
      "31/31 [==============================] - 1s 37ms/step - loss: 73.1458\n",
      "Epoch 10/100\n",
      "31/31 [==============================] - 1s 36ms/step - loss: 63.4809\n",
      "Epoch 11/100\n",
      "31/31 [==============================] - 1s 35ms/step - loss: 60.9757\n",
      "Epoch 12/100\n",
      "31/31 [==============================] - 1s 36ms/step - loss: 57.7044\n",
      "Epoch 13/100\n",
      "31/31 [==============================] - 1s 35ms/step - loss: 62.4454\n",
      "Epoch 14/100\n",
      "31/31 [==============================] - 1s 36ms/step - loss: 56.6497\n",
      "Epoch 15/100\n",
      "31/31 [==============================] - 1s 43ms/step - loss: 53.2329\n",
      "Epoch 16/100\n",
      "31/31 [==============================] - 1s 36ms/step - loss: 65.0537\n",
      "Epoch 17/100\n",
      "31/31 [==============================] - 1s 35ms/step - loss: 58.6710\n",
      "Epoch 18/100\n",
      "31/31 [==============================] - 1s 36ms/step - loss: 60.0726\n",
      "Epoch 19/100\n",
      "31/31 [==============================] - 1s 36ms/step - loss: 56.1999\n",
      "Epoch 20/100\n",
      "31/31 [==============================] - 1s 36ms/step - loss: 55.7785\n",
      "Epoch 21/100\n",
      "31/31 [==============================] - 1s 36ms/step - loss: 51.2688\n",
      "Epoch 22/100\n",
      "31/31 [==============================] - 1s 36ms/step - loss: 54.9552\n",
      "Epoch 23/100\n",
      "31/31 [==============================] - 1s 37ms/step - loss: 51.5539\n",
      "Epoch 24/100\n",
      "31/31 [==============================] - 1s 36ms/step - loss: 55.4753\n",
      "Epoch 25/100\n",
      "31/31 [==============================] - 1s 37ms/step - loss: 48.4559\n",
      "Epoch 26/100\n",
      "31/31 [==============================] - 1s 38ms/step - loss: 54.2121\n",
      "Epoch 27/100\n",
      "31/31 [==============================] - 1s 36ms/step - loss: 54.4619\n",
      "Epoch 28/100\n",
      "31/31 [==============================] - 1s 37ms/step - loss: 54.1912\n",
      "Epoch 29/100\n",
      "31/31 [==============================] - 1s 37ms/step - loss: 48.2903\n",
      "Epoch 30/100\n",
      "31/31 [==============================] - 1s 35ms/step - loss: 49.6825\n",
      "Epoch 31/100\n",
      "31/31 [==============================] - 1s 36ms/step - loss: 53.0422\n",
      "Epoch 32/100\n",
      "31/31 [==============================] - 1s 36ms/step - loss: 56.4042\n",
      "Epoch 33/100\n",
      "31/31 [==============================] - 1s 36ms/step - loss: 47.9185\n",
      "Epoch 34/100\n",
      "31/31 [==============================] - 1s 35ms/step - loss: 50.2060\n",
      "Epoch 35/100\n",
      "31/31 [==============================] - 1s 36ms/step - loss: 48.2373\n",
      "Epoch 36/100\n",
      "31/31 [==============================] - 1s 36ms/step - loss: 47.5874\n",
      "Epoch 37/100\n",
      "31/31 [==============================] - 1s 34ms/step - loss: 53.0302\n",
      "Epoch 38/100\n",
      "31/31 [==============================] - 1s 35ms/step - loss: 47.7121\n",
      "Epoch 39/100\n",
      "31/31 [==============================] - 1s 37ms/step - loss: 47.2859\n",
      "Epoch 40/100\n",
      "31/31 [==============================] - 1s 36ms/step - loss: 48.6493\n",
      "Epoch 41/100\n",
      "31/31 [==============================] - 1s 37ms/step - loss: 46.0403\n",
      "Epoch 42/100\n",
      "31/31 [==============================] - 1s 36ms/step - loss: 49.4847\n",
      "Epoch 43/100\n",
      "31/31 [==============================] - 1s 37ms/step - loss: 48.2804\n",
      "Epoch 44/100\n",
      "31/31 [==============================] - 1s 35ms/step - loss: 51.2779\n",
      "Epoch 45/100\n",
      "31/31 [==============================] - 1s 37ms/step - loss: 48.2863\n",
      "Epoch 46/100\n",
      "31/31 [==============================] - 1s 36ms/step - loss: 51.8344\n",
      "Epoch 47/100\n",
      "31/31 [==============================] - 1s 36ms/step - loss: 49.9795\n",
      "Epoch 48/100\n",
      "31/31 [==============================] - 1s 35ms/step - loss: 45.3264\n",
      "Epoch 49/100\n",
      "31/31 [==============================] - 1s 36ms/step - loss: 45.0664\n",
      "Epoch 50/100\n",
      "31/31 [==============================] - 1s 36ms/step - loss: 45.8870\n",
      "Epoch 51/100\n",
      "31/31 [==============================] - 1s 36ms/step - loss: 49.2073\n",
      "Epoch 52/100\n",
      "31/31 [==============================] - 1s 34ms/step - loss: 50.4170\n",
      "Epoch 53/100\n",
      "31/31 [==============================] - 1s 38ms/step - loss: 50.7224\n",
      "Epoch 54/100\n",
      "31/31 [==============================] - 1s 36ms/step - loss: 44.6063\n",
      "Epoch 55/100\n",
      "31/31 [==============================] - 1s 40ms/step - loss: 47.2966\n",
      "Epoch 56/100\n",
      "31/31 [==============================] - 1s 36ms/step - loss: 46.8540\n",
      "Epoch 57/100\n",
      "31/31 [==============================] - 1s 35ms/step - loss: 46.1015\n",
      "Epoch 58/100\n",
      "31/31 [==============================] - 1s 36ms/step - loss: 45.2351\n",
      "Epoch 59/100\n",
      "31/31 [==============================] - 1s 36ms/step - loss: 45.4370\n",
      "Epoch 60/100\n",
      "31/31 [==============================] - 1s 35ms/step - loss: 46.3429\n",
      "Epoch 61/100\n",
      "31/31 [==============================] - 1s 36ms/step - loss: 46.9665\n",
      "Epoch 62/100\n",
      "31/31 [==============================] - 1s 35ms/step - loss: 46.5664\n",
      "Epoch 63/100\n",
      "31/31 [==============================] - 1s 37ms/step - loss: 45.2381\n",
      "Epoch 64/100\n",
      "31/31 [==============================] - 1s 42ms/step - loss: 45.0082\n",
      "Epoch 65/100\n",
      "31/31 [==============================] - 1s 36ms/step - loss: 44.2408\n",
      "Epoch 66/100\n",
      "31/31 [==============================] - 1s 36ms/step - loss: 43.7104\n",
      "Epoch 67/100\n",
      "31/31 [==============================] - 1s 35ms/step - loss: 44.6086\n",
      "Epoch 68/100\n",
      "31/31 [==============================] - 1s 36ms/step - loss: 48.9862\n",
      "Epoch 69/100\n",
      "31/31 [==============================] - 1s 36ms/step - loss: 49.3742\n",
      "Epoch 70/100\n",
      "31/31 [==============================] - 1s 36ms/step - loss: 48.0163\n",
      "Epoch 71/100\n",
      "31/31 [==============================] - 1s 36ms/step - loss: 43.7251\n",
      "Epoch 72/100\n",
      "31/31 [==============================] - 1s 36ms/step - loss: 46.3182\n",
      "Epoch 73/100\n",
      "31/31 [==============================] - 1s 36ms/step - loss: 45.2350\n",
      "Epoch 74/100\n",
      "31/31 [==============================] - 1s 37ms/step - loss: 43.9390\n",
      "Epoch 75/100\n",
      "31/31 [==============================] - 1s 35ms/step - loss: 45.4765\n",
      "Epoch 76/100\n",
      "31/31 [==============================] - 1s 36ms/step - loss: 46.1003\n",
      "Epoch 77/100\n",
      "31/31 [==============================] - 1s 36ms/step - loss: 45.5499\n",
      "Epoch 78/100\n",
      "31/31 [==============================] - 1s 36ms/step - loss: 44.7749\n",
      "Epoch 79/100\n",
      "31/31 [==============================] - 1s 36ms/step - loss: 44.7591\n",
      "Epoch 80/100\n",
      "31/31 [==============================] - 1s 36ms/step - loss: 51.3417\n",
      "Epoch 81/100\n",
      "31/31 [==============================] - 1s 36ms/step - loss: 53.4107\n",
      "Epoch 82/100\n",
      "31/31 [==============================] - 1s 37ms/step - loss: 45.4838\n",
      "Epoch 83/100\n",
      "31/31 [==============================] - 1s 36ms/step - loss: 45.8837\n",
      "Epoch 84/100\n",
      "31/31 [==============================] - 1s 35ms/step - loss: 46.3761\n",
      "Epoch 85/100\n",
      "31/31 [==============================] - 1s 35ms/step - loss: 44.9510\n",
      "Epoch 86/100\n",
      "31/31 [==============================] - 1s 38ms/step - loss: 43.7665\n",
      "Epoch 87/100\n",
      "31/31 [==============================] - 1s 36ms/step - loss: 51.7506\n",
      "Epoch 88/100\n",
      "31/31 [==============================] - 1s 36ms/step - loss: 46.2335\n",
      "Epoch 89/100\n",
      "31/31 [==============================] - 1s 37ms/step - loss: 48.7304\n",
      "Epoch 90/100\n",
      "31/31 [==============================] - 1s 41ms/step - loss: 45.3579\n",
      "Epoch 91/100\n",
      "31/31 [==============================] - 1s 37ms/step - loss: 53.3696\n",
      "Epoch 92/100\n",
      "31/31 [==============================] - 3s 103ms/step - loss: 44.1400\n",
      "Epoch 93/100\n",
      "31/31 [==============================] - 1s 37ms/step - loss: 43.6139\n",
      "Epoch 94/100\n",
      "31/31 [==============================] - 1s 35ms/step - loss: 46.2337\n",
      "Epoch 95/100\n",
      "31/31 [==============================] - 1s 35ms/step - loss: 44.8032\n",
      "Epoch 96/100\n",
      "31/31 [==============================] - 1s 35ms/step - loss: 44.4877\n",
      "Epoch 97/100\n",
      "31/31 [==============================] - 1s 35ms/step - loss: 44.1544\n",
      "Epoch 98/100\n",
      "31/31 [==============================] - 1s 35ms/step - loss: 44.8083\n",
      "Epoch 99/100\n"
     ]
    },
    {
     "name": "stdout",
     "output_type": "stream",
     "text": [
      "31/31 [==============================] - 1s 35ms/step - loss: 45.3499\n",
      "Epoch 100/100\n",
      "31/31 [==============================] - 1s 35ms/step - loss: 46.9555\n"
     ]
    },
    {
     "data": {
      "text/plain": [
       "<tensorflow.python.keras.callbacks.History at 0x7fa116928850>"
      ]
     },
     "execution_count": 13,
     "metadata": {},
     "output_type": "execute_result"
    }
   ],
   "source": [
    "tf.keras.backend.clear_session()\n",
    "dataset = windowed_dataset(x_train, window_size, batch_size, shuffle_buffer_size)\n",
    "\n",
    "model = tf.keras.models.Sequential([\n",
    "  tf.keras.layers.Lambda(lambda x: tf.expand_dims(x, axis=-1),\n",
    "                      input_shape=[None]),\n",
    "  tf.keras.layers.Bidirectional(tf.keras.layers.LSTM(32, return_sequences=True)),\n",
    "  tf.keras.layers.Bidirectional(tf.keras.layers.LSTM(32, return_sequences=True)),\n",
    "  tf.keras.layers.Bidirectional(tf.keras.layers.LSTM(32)),\n",
    "  tf.keras.layers.Dense(1),\n",
    "  tf.keras.layers.Lambda(lambda x: x * 100.0)\n",
    "])\n",
    "\n",
    "\n",
    "model.compile(loss=\"mse\", optimizer=tf.keras.optimizers.SGD(lr=1e-6, momentum=0.9))\n",
    "model.fit(dataset,epochs=100)"
   ]
  }
 ],
 "metadata": {
  "colab": {
   "collapsed_sections": [],
   "name": "S+P Week 3 Lesson 4 - LSTM.ipynb",
   "provenance": [],
   "toc_visible": true
  },
  "kernelspec": {
   "display_name": "Python 3",
   "language": "python",
   "name": "python3"
  },
  "language_info": {
   "codemirror_mode": {
    "name": "ipython",
    "version": 3
   },
   "file_extension": ".py",
   "mimetype": "text/x-python",
   "name": "python",
   "nbconvert_exporter": "python",
   "pygments_lexer": "ipython3",
   "version": "3.8.3"
  }
 },
 "nbformat": 4,
 "nbformat_minor": 1
}

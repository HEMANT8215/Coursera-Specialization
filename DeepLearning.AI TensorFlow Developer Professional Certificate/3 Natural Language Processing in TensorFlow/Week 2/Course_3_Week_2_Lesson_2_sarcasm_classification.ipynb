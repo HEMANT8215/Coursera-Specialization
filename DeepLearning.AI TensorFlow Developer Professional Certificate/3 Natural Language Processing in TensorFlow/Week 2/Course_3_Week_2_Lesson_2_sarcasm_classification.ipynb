{
 "cells": [
  {
   "cell_type": "code",
   "execution_count": 1,
   "metadata": {
    "id": "zX4Kg8DUTKWO"
   },
   "outputs": [],
   "source": [
    "#@title Licensed under the Apache License, Version 2.0 (the \"License\");\n",
    "# you may not use this file except in compliance with the License.\n",
    "# You may obtain a copy of the License at\n",
    "#\n",
    "# https://www.apache.org/licenses/LICENSE-2.0\n",
    "#\n",
    "# Unless required by applicable law or agreed to in writing, software\n",
    "# distributed under the License is distributed on an \"AS IS\" BASIS,\n",
    "# WITHOUT WARRANTIES OR CONDITIONS OF ANY KIND, either express or implied.\n",
    "# See the License for the specific language governing permissions and\n",
    "# limitations under the License."
   ]
  },
  {
   "cell_type": "markdown",
   "metadata": {
    "id": "view-in-github"
   },
   "source": [
    "<a href=\"https://colab.research.google.com/github/lmoroney/dlaicourse/blob/master/TensorFlow%20In%20Practice/Course%203%20-%20NLP/Course%203%20-%20Week%202%20-%20Lesson%202.ipynb\" target=\"_parent\"><img src=\"https://colab.research.google.com/assets/colab-badge.svg\" alt=\"Open In Colab\"/></a>"
   ]
  },
  {
   "cell_type": "code",
   "execution_count": 2,
   "metadata": {
    "id": "4gs9htvM7n_x"
   },
   "outputs": [],
   "source": [
    "# Run this to ensure TensorFlow 2.x is used\n",
    "try:\n",
    "  # %tensorflow_version only exists in Colab.\n",
    "  %tensorflow_version 2.x\n",
    "except Exception:\n",
    "  pass"
   ]
  },
  {
   "cell_type": "code",
   "execution_count": 3,
   "metadata": {
    "id": "XYYDvoskkE61"
   },
   "outputs": [],
   "source": [
    "import json\n",
    "import tensorflow as tf\n",
    "\n",
    "from tensorflow.keras.preprocessing.text import Tokenizer\n",
    "from tensorflow.keras.preprocessing.sequence import pad_sequences"
   ]
  },
  {
   "cell_type": "code",
   "execution_count": 4,
   "metadata": {
    "id": "0eJSTTYnkJQd"
   },
   "outputs": [],
   "source": [
    "vocab_size = 10000\n",
    "embedding_dim = 16\n",
    "max_length = 100\n",
    "trunc_type='post'\n",
    "padding_type='post'\n",
    "oov_tok = \"<OOV>\"\n",
    "training_size = 20000\n"
   ]
  },
  {
   "cell_type": "code",
   "execution_count": 5,
   "metadata": {
    "id": "BQVuQrZNkPn9"
   },
   "outputs": [],
   "source": [
    "#!wget --no-check-certificate \\\n",
    "    #https://storage.googleapis.com/laurencemoroney-blog.appspot.com/sarcasm.json \\\n",
    "   # -O /tmp/sarcasm.json\n"
   ]
  },
  {
   "cell_type": "code",
   "execution_count": 6,
   "metadata": {
    "id": "oaLaaqhNkUPd"
   },
   "outputs": [],
   "source": [
    "with open(\"sarcasm.json\", 'r') as f:\n",
    "    datastore = json.load(f)\n",
    "\n",
    "sentences = []\n",
    "labels = []\n",
    "\n",
    "for item in datastore:\n",
    "    sentences.append(item['headline'])\n",
    "    labels.append(item['is_sarcastic'])"
   ]
  },
  {
   "cell_type": "code",
   "execution_count": 7,
   "metadata": {
    "id": "S1sD-7v0kYWk"
   },
   "outputs": [],
   "source": [
    "training_sentences = sentences[0:training_size]\n",
    "testing_sentences = sentences[training_size:]\n",
    "training_labels = labels[0:training_size]\n",
    "testing_labels = labels[training_size:]"
   ]
  },
  {
   "cell_type": "code",
   "execution_count": 8,
   "metadata": {
    "id": "3u8UB0MCkZ5N"
   },
   "outputs": [],
   "source": [
    "tokenizer = Tokenizer(num_words=vocab_size, oov_token=oov_tok)\n",
    "tokenizer.fit_on_texts(training_sentences)\n",
    "\n",
    "word_index = tokenizer.word_index\n",
    "\n",
    "training_sequences = tokenizer.texts_to_sequences(training_sentences)\n",
    "training_padded = pad_sequences(training_sequences, maxlen=max_length, padding=padding_type, truncating=trunc_type)\n",
    "\n",
    "testing_sequences = tokenizer.texts_to_sequences(testing_sentences)\n",
    "testing_padded = pad_sequences(testing_sequences, maxlen=max_length, padding=padding_type, truncating=trunc_type)"
   ]
  },
  {
   "cell_type": "code",
   "execution_count": 9,
   "metadata": {
    "id": "GrAlWBKf99Ya"
   },
   "outputs": [],
   "source": [
    "# Need this block to get it to work with TensorFlow 2.x\n",
    "import numpy as np\n",
    "training_padded = np.array(training_padded)\n",
    "training_labels = np.array(training_labels)\n",
    "testing_padded = np.array(testing_padded)\n",
    "testing_labels = np.array(testing_labels)"
   ]
  },
  {
   "cell_type": "code",
   "execution_count": 10,
   "metadata": {
    "id": "FufaT4vlkiDE"
   },
   "outputs": [],
   "source": [
    "model = tf.keras.Sequential([\n",
    "    tf.keras.layers.Embedding(vocab_size, embedding_dim, input_length=max_length),\n",
    "    tf.keras.layers.GlobalAveragePooling1D(),\n",
    "    tf.keras.layers.Dense(24, activation='relu'),\n",
    "    tf.keras.layers.Dense(1, activation='sigmoid')\n",
    "])\n",
    "model.compile(loss='binary_crossentropy',optimizer='adam',metrics=['accuracy'])"
   ]
  },
  {
   "cell_type": "code",
   "execution_count": 11,
   "metadata": {
    "id": "XfDt1hmYkiys"
   },
   "outputs": [
    {
     "name": "stdout",
     "output_type": "stream",
     "text": [
      "Model: \"sequential\"\n",
      "_________________________________________________________________\n",
      "Layer (type)                 Output Shape              Param #   \n",
      "=================================================================\n",
      "embedding (Embedding)        (None, 100, 16)           160000    \n",
      "_________________________________________________________________\n",
      "global_average_pooling1d (Gl (None, 16)                0         \n",
      "_________________________________________________________________\n",
      "dense (Dense)                (None, 24)                408       \n",
      "_________________________________________________________________\n",
      "dense_1 (Dense)              (None, 1)                 25        \n",
      "=================================================================\n",
      "Total params: 160,433\n",
      "Trainable params: 160,433\n",
      "Non-trainable params: 0\n",
      "_________________________________________________________________\n"
     ]
    }
   ],
   "source": [
    "model.summary()\n"
   ]
  },
  {
   "cell_type": "code",
   "execution_count": 12,
   "metadata": {
    "id": "2DTKQFf1kkyc"
   },
   "outputs": [
    {
     "name": "stdout",
     "output_type": "stream",
     "text": [
      "Epoch 1/30\n",
      "625/625 - 1s - loss: 0.6659 - accuracy: 0.5844 - val_loss: 0.5914 - val_accuracy: 0.7274\n",
      "Epoch 2/30\n",
      "625/625 - 1s - loss: 0.4410 - accuracy: 0.8274 - val_loss: 0.3894 - val_accuracy: 0.8380\n",
      "Epoch 3/30\n",
      "625/625 - 1s - loss: 0.3164 - accuracy: 0.8756 - val_loss: 0.3567 - val_accuracy: 0.8498\n",
      "Epoch 4/30\n",
      "625/625 - 1s - loss: 0.2644 - accuracy: 0.8971 - val_loss: 0.3504 - val_accuracy: 0.8472\n",
      "Epoch 5/30\n",
      "625/625 - 1s - loss: 0.2278 - accuracy: 0.9125 - val_loss: 0.3711 - val_accuracy: 0.8350\n",
      "Epoch 6/30\n",
      "625/625 - 1s - loss: 0.2007 - accuracy: 0.9240 - val_loss: 0.3515 - val_accuracy: 0.8560\n",
      "Epoch 7/30\n",
      "625/625 - 1s - loss: 0.1784 - accuracy: 0.9330 - val_loss: 0.3620 - val_accuracy: 0.8530\n",
      "Epoch 8/30\n",
      "625/625 - 1s - loss: 0.1609 - accuracy: 0.9397 - val_loss: 0.3803 - val_accuracy: 0.8477\n",
      "Epoch 9/30\n",
      "625/625 - 1s - loss: 0.1449 - accuracy: 0.9478 - val_loss: 0.3956 - val_accuracy: 0.8484\n",
      "Epoch 10/30\n",
      "625/625 - 1s - loss: 0.1309 - accuracy: 0.9531 - val_loss: 0.4077 - val_accuracy: 0.8521\n",
      "Epoch 11/30\n",
      "625/625 - 1s - loss: 0.1178 - accuracy: 0.9586 - val_loss: 0.4421 - val_accuracy: 0.8436\n",
      "Epoch 12/30\n",
      "625/625 - 1s - loss: 0.1074 - accuracy: 0.9633 - val_loss: 0.4536 - val_accuracy: 0.8483\n",
      "Epoch 13/30\n",
      "625/625 - 1s - loss: 0.0991 - accuracy: 0.9656 - val_loss: 0.5163 - val_accuracy: 0.8308\n",
      "Epoch 14/30\n",
      "625/625 - 1s - loss: 0.0910 - accuracy: 0.9690 - val_loss: 0.5097 - val_accuracy: 0.8410\n",
      "Epoch 15/30\n",
      "625/625 - 1s - loss: 0.0846 - accuracy: 0.9716 - val_loss: 0.5344 - val_accuracy: 0.8383\n",
      "Epoch 16/30\n",
      "625/625 - 1s - loss: 0.0779 - accuracy: 0.9744 - val_loss: 0.5636 - val_accuracy: 0.8369\n",
      "Epoch 17/30\n",
      "625/625 - 1s - loss: 0.0698 - accuracy: 0.9772 - val_loss: 0.6054 - val_accuracy: 0.8325\n",
      "Epoch 18/30\n",
      "625/625 - 1s - loss: 0.0636 - accuracy: 0.9802 - val_loss: 0.6263 - val_accuracy: 0.8314\n",
      "Epoch 19/30\n",
      "625/625 - 1s - loss: 0.0579 - accuracy: 0.9819 - val_loss: 0.6882 - val_accuracy: 0.8281\n",
      "Epoch 20/30\n",
      "625/625 - 1s - loss: 0.0555 - accuracy: 0.9822 - val_loss: 0.7149 - val_accuracy: 0.8271\n",
      "Epoch 21/30\n",
      "625/625 - 1s - loss: 0.0502 - accuracy: 0.9854 - val_loss: 0.7440 - val_accuracy: 0.8259\n",
      "Epoch 22/30\n",
      "625/625 - 1s - loss: 0.0466 - accuracy: 0.9861 - val_loss: 0.7826 - val_accuracy: 0.8225\n",
      "Epoch 23/30\n",
      "625/625 - 1s - loss: 0.0437 - accuracy: 0.9858 - val_loss: 0.8077 - val_accuracy: 0.8237\n",
      "Epoch 24/30\n",
      "625/625 - 1s - loss: 0.0397 - accuracy: 0.9884 - val_loss: 0.8395 - val_accuracy: 0.8226\n",
      "Epoch 25/30\n",
      "625/625 - 1s - loss: 0.0351 - accuracy: 0.9897 - val_loss: 0.8807 - val_accuracy: 0.8159\n",
      "Epoch 26/30\n",
      "625/625 - 1s - loss: 0.0334 - accuracy: 0.9905 - val_loss: 0.9237 - val_accuracy: 0.8208\n",
      "Epoch 27/30\n",
      "625/625 - 1s - loss: 0.0313 - accuracy: 0.9905 - val_loss: 0.9676 - val_accuracy: 0.8165\n",
      "Epoch 28/30\n",
      "625/625 - 1s - loss: 0.0291 - accuracy: 0.9922 - val_loss: 1.0397 - val_accuracy: 0.8153\n",
      "Epoch 29/30\n",
      "625/625 - 1s - loss: 0.0279 - accuracy: 0.9920 - val_loss: 1.0706 - val_accuracy: 0.8155\n",
      "Epoch 30/30\n",
      "625/625 - 1s - loss: 0.0251 - accuracy: 0.9930 - val_loss: 1.0724 - val_accuracy: 0.8153\n"
     ]
    }
   ],
   "source": [
    "num_epochs = 30\n",
    "history = model.fit(training_padded, training_labels, epochs=num_epochs, validation_data=(testing_padded, testing_labels), verbose=2)"
   ]
  },
  {
   "cell_type": "code",
   "execution_count": 13,
   "metadata": {
    "id": "2HYfBKXjkmU8"
   },
   "outputs": [
    {
     "data": {
      "image/png": "[encoded data removed]",
      "text/plain": [
       "<Figure size 432x288 with 1 Axes>"
      ]
     },
     "metadata": {
      "needs_background": "light"
     },
     "output_type": "display_data"
    },
    {
     "data": {
      "image/png": "[encoded data removed]",
      "text/plain": [
       "<Figure size 432x288 with 1 Axes>"
      ]
     },
     "metadata": {
      "needs_background": "light"
     },
     "output_type": "display_data"
    }
   ],
   "source": [
    "import matplotlib.pyplot as plt\n",
    "\n",
    "\n",
    "def plot_graphs(history, string):\n",
    "  plt.plot(history.history[string])\n",
    "  plt.plot(history.history['val_'+string])\n",
    "  plt.xlabel(\"Epochs\")\n",
    "  plt.ylabel(string)\n",
    "  plt.legend([string, 'val_'+string])\n",
    "  plt.show()\n",
    "  \n",
    "plot_graphs(history, \"accuracy\")\n",
    "plot_graphs(history, \"loss\")"
   ]
  },
  {
   "cell_type": "code",
   "execution_count": 14,
   "metadata": {
    "id": "7SBdAZAenvzL"
   },
   "outputs": [
    {
     "name": "stdout",
     "output_type": "stream",
     "text": [
      "former <OOV> store clerk sues over secret 'black <OOV> for minority shoppers ? ? ? ? ? ? ? ? ? ? ? ? ? ? ? ? ? ? ? ? ? ? ? ? ? ? ? ? ? ? ? ? ? ? ? ? ? ? ? ? ? ? ? ? ? ? ? ? ? ? ? ? ? ? ? ? ? ? ? ? ? ? ? ? ? ? ? ? ? ? ? ? ? ? ? ? ? ? ? ? ? ? ? ? ? ? ? ?\n",
      "mom starting to fear son's web series closest thing she will have to grandchild\n",
      "1\n"
     ]
    }
   ],
   "source": [
    "reverse_word_index = dict([(value, key) for (key, value) in word_index.items()])\n",
    "\n",
    "def decode_sentence(text):\n",
    "    return ' '.join([reverse_word_index.get(i, '?') for i in text])\n",
    "\n",
    "print(decode_sentence(training_padded[0]))\n",
    "print(training_sentences[2])\n",
    "print(labels[2])"
   ]
  },
  {
   "cell_type": "code",
   "execution_count": 15,
   "metadata": {
    "id": "c9MqihtEkzQ9"
   },
   "outputs": [
    {
     "name": "stdout",
     "output_type": "stream",
     "text": [
      "(10000, 16)\n"
     ]
    }
   ],
   "source": [
    "e = model.layers[0]\n",
    "weights = e.get_weights()[0]\n",
    "print(weights.shape) # shape: (vocab_size, embedding_dim)\n"
   ]
  },
  {
   "cell_type": "code",
   "execution_count": 16,
   "metadata": {
    "id": "LoBXVffknldU"
   },
   "outputs": [],
   "source": [
    "import io\n",
    "\n",
    "out_v = io.open('vecs.tsv', 'w', encoding='utf-8')\n",
    "out_m = io.open('meta.tsv', 'w', encoding='utf-8')\n",
    "for word_num in range(1, vocab_size):\n",
    "  word = reverse_word_index[word_num]\n",
    "  embeddings = weights[word_num]\n",
    "  out_m.write(word + \"\\n\")\n",
    "  out_v.write('\\t'.join([str(x) for x in embeddings]) + \"\\n\")\n",
    "out_v.close()\n",
    "out_m.close()"
   ]
  },
  {
   "cell_type": "code",
   "execution_count": 17,
   "metadata": {
    "id": "U4eZ5HtVnnEE"
   },
   "outputs": [],
   "source": [
    "try:\n",
    "  from google.colab import files\n",
    "except ImportError:\n",
    "  pass\n",
    "else:\n",
    "  files.download('vecs.tsv')\n",
    "  files.download('meta.tsv')"
   ]
  },
  {
   "cell_type": "code",
   "execution_count": 18,
   "metadata": {
    "id": "cG8-ArY-qDcz"
   },
   "outputs": [
    {
     "name": "stdout",
     "output_type": "stream",
     "text": [
      "[[8.9431179e-01]\n",
      " [3.0324475e-06]]\n"
     ]
    }
   ],
   "source": [
    "sentence = [\"granny starting to fear spiders in the garden might be real\", \"game of thrones season finale showing this sunday night\"]\n",
    "sequences = tokenizer.texts_to_sequences(sentence)\n",
    "padded = pad_sequences(sequences, maxlen=max_length, padding=padding_type, truncating=trunc_type)\n",
    "print(model.predict(padded))"
   ]
  },
  {
   "cell_type": "code",
   "execution_count": null,
   "metadata": {},
   "outputs": [],
   "source": []
  }
 ],
 "metadata": {
  "accelerator": "GPU",
  "colab": {
   "collapsed_sections": [],
   "name": "Course 3 - Week 2 - Lesson 2.ipynb",
   "provenance": [],
   "toc_visible": true
  },
  "kernelspec": {
   "display_name": "Python 3",
   "language": "python",
   "name": "python3"
  },
  "language_info": {
   "codemirror_mode": {
    "name": "ipython",
    "version": 3
   },
   "file_extension": ".py",
   "mimetype": "text/x-python",
   "name": "python",
   "nbconvert_exporter": "python",
   "pygments_lexer": "ipython3",
   "version": "3.8.3"
  }
 },
 "nbformat": 4,
 "nbformat_minor": 1
}

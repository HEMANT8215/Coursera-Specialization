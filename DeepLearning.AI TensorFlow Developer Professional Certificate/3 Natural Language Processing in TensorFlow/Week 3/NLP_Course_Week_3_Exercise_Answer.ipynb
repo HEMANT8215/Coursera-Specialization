{
 "cells": [
  {
   "cell_type": "code",
   "execution_count": 1,
   "metadata": {
    "id": "zX4Kg8DUTKWO"
   },
   "outputs": [],
   "source": [
    "#@title Licensed under the Apache License, Version 2.0 (the \"License\");\n",
    "# you may not use this file except in compliance with the License.\n",
    "# You may obtain a copy of the License at\n",
    "#\n",
    "# https://www.apache.org/licenses/LICENSE-2.0\n",
    "#\n",
    "# Unless required by applicable law or agreed to in writing, software\n",
    "# distributed under the License is distributed on an \"AS IS\" BASIS,\n",
    "# WITHOUT WARRANTIES OR CONDITIONS OF ANY KIND, either express or implied.\n",
    "# See the License for the specific language governing permissions and\n",
    "# limitations under the License."
   ]
  },
  {
   "cell_type": "markdown",
   "metadata": {
    "id": "Otl5q7JmBwBh"
   },
   "source": [
    "<a href=\"https://colab.research.google.com/github/lmoroney/dlaicourse/blob/master/TensorFlow%20In%20Practice/Course%203%20-%20NLP/NLP%20Course%20-%20Week%203%20Exercise%20Answer.ipynb\" target=\"_parent\"><img src=\"https://colab.research.google.com/assets/colab-badge.svg\" alt=\"Open In Colab\"/></a>"
   ]
  },
  {
   "cell_type": "code",
   "execution_count": 2,
   "metadata": {
    "id": "hmA6EzkQJ5jt"
   },
   "outputs": [],
   "source": [
    "import json\n",
    "import tensorflow as tf\n",
    "import csv\n",
    "import random\n",
    "import numpy as np\n",
    "\n",
    "from tensorflow.keras.preprocessing.text import Tokenizer\n",
    "from tensorflow.keras.preprocessing.sequence import pad_sequences\n",
    "from tensorflow.keras.utils import to_categorical\n",
    "from tensorflow.keras import regularizers\n",
    "\n",
    "\n",
    "embedding_dim = 100\n",
    "max_length = 16\n",
    "trunc_type='post'\n",
    "padding_type='post'\n",
    "oov_tok = \"<OOV>\"\n",
    "training_size=160000\n",
    "test_portion=.1\n",
    "\n",
    "corpus = []\n"
   ]
  },
  {
   "cell_type": "code",
   "execution_count": 3,
   "metadata": {
    "colab": {
     "base_uri": "https://localhost:8080/"
    },
    "id": "bM0l_dORKqE0",
    "outputId": "f17c8990-79b0-42bc-b8ed-e393d96fff4b"
   },
   "outputs": [
    {
     "name": "stdout",
     "output_type": "stream",
     "text": [
      "/bin/bash: wget: command not found\r\n"
     ]
    }
   ],
   "source": [
    "# Note that I cleaned the Stanford dataset to remove LATIN1 encoding to make it easier for Python CSV reader\n",
    "# You can do that yourself with:\n",
    "# iconv -f LATIN1 -t UTF8 training.1600000.processed.noemoticon.csv -o training_cleaned.csv\n",
    "# I then hosted it on my site to make it easier to use in this notebook\n",
    "\n",
    "!wget --no-check-certificate \\\n",
    "    https://storage.googleapis.com/laurencemoroney-blog.appspot.com/training_cleaned.csv \\\n",
    "    -O /tmp/training_cleaned.csv\n",
    "\n",
    "num_sentences = 0\n",
    "\n",
    "with open(\"training_cleaned.csv\") as csvfile:\n",
    "    reader = csv.reader(csvfile, delimiter=',')\n",
    "    for row in reader:\n",
    "        list_item=[]\n",
    "        list_item.append(row[5])\n",
    "        this_label=row[0]\n",
    "        if this_label=='0':\n",
    "            list_item.append(0)\n",
    "        else:\n",
    "            list_item.append(1)\n",
    "        num_sentences = num_sentences + 1\n",
    "        corpus.append(list_item)\n"
   ]
  },
  {
   "cell_type": "code",
   "execution_count": 4,
   "metadata": {
    "colab": {
     "base_uri": "https://localhost:8080/"
    },
    "id": "3kxblBUjEUX-",
    "outputId": "899944dc-e462-4581-892c-8c7b34c7e571"
   },
   "outputs": [
    {
     "name": "stdout",
     "output_type": "stream",
     "text": [
      "1600000\n",
      "1600000\n",
      "[\"is upset that he can't update his Facebook by texting it... and might cry as a result  School today also. Blah!\", 0]\n"
     ]
    }
   ],
   "source": [
    "print(num_sentences)\n",
    "print(len(corpus))\n",
    "print(corpus[1])\n",
    "\n",
    "# Expected Output:\n",
    "# 1600000\n",
    "# 1600000\n",
    "# [\"is upset that he can't update his Facebook by texting it... and might cry as a result  School today also. Blah!\", 0]"
   ]
  },
  {
   "cell_type": "code",
   "execution_count": 5,
   "metadata": {
    "id": "ohOGz24lsNAD"
   },
   "outputs": [],
   "source": [
    "sentences=[]\n",
    "labels=[]\n",
    "random.shuffle(corpus)\n",
    "for x in range(training_size):\n",
    "    sentences.append(corpus[x][0])\n",
    "    labels.append(corpus[x][1])\n",
    "\n",
    "\n",
    "tokenizer = Tokenizer()\n",
    "tokenizer.fit_on_texts(sentences)\n",
    "\n",
    "word_index = tokenizer.word_index\n",
    "vocab_size=len(word_index)\n",
    "\n",
    "sequences = tokenizer.texts_to_sequences(sentences)\n",
    "padded = pad_sequences(sequences, maxlen=max_length, padding=padding_type, truncating=trunc_type)\n",
    "\n",
    "split = int(test_portion * training_size)\n",
    "\n",
    "test_sequences = padded[0:split]\n",
    "training_sequences = padded[split:training_size]\n",
    "test_labels = labels[0:split]\n",
    "training_labels = labels[split:training_size]"
   ]
  },
  {
   "cell_type": "code",
   "execution_count": 6,
   "metadata": {
    "colab": {
     "base_uri": "https://localhost:8080/"
    },
    "id": "gIrtRem1En3N",
    "outputId": "55b8cddb-23b5-4d0c-eedb-26a9112f92f3"
   },
   "outputs": [
    {
     "name": "stdout",
     "output_type": "stream",
     "text": [
      "138883\n",
      "1\n"
     ]
    }
   ],
   "source": [
    "print(vocab_size)\n",
    "print(word_index['i'])\n",
    "# Expected Output\n",
    "# 138858\n",
    "# 1"
   ]
  },
  {
   "cell_type": "code",
   "execution_count": 7,
   "metadata": {
    "colab": {
     "base_uri": "https://localhost:8080/"
    },
    "id": "C1zdgJkusRh0",
    "outputId": "63808ecc-6f5b-41eb-a544-e0643f5ca8d4"
   },
   "outputs": [
    {
     "name": "stdout",
     "output_type": "stream",
     "text": [
      "/bin/bash: wget: command not found\r\n"
     ]
    }
   ],
   "source": [
    "# Note this is the 100 dimension version of GloVe from Stanford\n",
    "# I unzipped and hosted it on my site to make this notebook easier\n",
    "!wget --no-check-certificate \\\n",
    "    https://storage.googleapis.com/laurencemoroney-blog.appspot.com/glove.6B.100d.txt \\\n",
    "    -O /tmp/glove.6B.100d.txt\n",
    "embeddings_index = {};\n",
    "with open('glove.6B.100d.txt') as f:\n",
    "    for line in f:\n",
    "        values = line.split();\n",
    "        word = values[0];\n",
    "        coefs = np.asarray(values[1:], dtype='float32');\n",
    "        embeddings_index[word] = coefs;\n",
    "\n",
    "embeddings_matrix = np.zeros((vocab_size+1, embedding_dim));\n",
    "for word, i in word_index.items():\n",
    "    embedding_vector = embeddings_index.get(word);\n",
    "    if embedding_vector is not None:\n",
    "        embeddings_matrix[i] = embedding_vector;"
   ]
  },
  {
   "cell_type": "code",
   "execution_count": 8,
   "metadata": {
    "colab": {
     "base_uri": "https://localhost:8080/"
    },
    "id": "71NLk_lpFLNt",
    "outputId": "897c5b55-fa08-40b8-9cc9-e34dd80bc136"
   },
   "outputs": [
    {
     "name": "stdout",
     "output_type": "stream",
     "text": [
      "138884\n"
     ]
    }
   ],
   "source": [
    "print(len(embeddings_matrix))\n",
    "# Expected Output\n",
    "# 138859"
   ]
  },
  {
   "cell_type": "code",
   "execution_count": 9,
   "metadata": {
    "id": "iKKvbuEBOGFz"
   },
   "outputs": [
    {
     "name": "stdout",
     "output_type": "stream",
     "text": [
      "Model: \"sequential\"\n",
      "_________________________________________________________________\n",
      "Layer (type)                 Output Shape              Param #   \n",
      "=================================================================\n",
      "embedding (Embedding)        (None, 16, 100)           13888400  \n",
      "_________________________________________________________________\n",
      "dropout (Dropout)            (None, 16, 100)           0         \n",
      "_________________________________________________________________\n",
      "conv1d (Conv1D)              (None, 12, 64)            32064     \n",
      "_________________________________________________________________\n",
      "max_pooling1d (MaxPooling1D) (None, 3, 64)             0         \n",
      "_________________________________________________________________\n",
      "lstm (LSTM)                  (None, 64)                33024     \n",
      "_________________________________________________________________\n",
      "dense (Dense)                (None, 1)                 65        \n",
      "=================================================================\n",
      "Total params: 13,953,553\n",
      "Trainable params: 65,153\n",
      "Non-trainable params: 13,888,400\n",
      "_________________________________________________________________\n",
      "Epoch 1/50\n",
      "4500/4500 - 16s - loss: 0.5698 - accuracy: 0.6974 - val_loss: 0.5308 - val_accuracy: 0.7296\n",
      "Epoch 2/50\n",
      "4500/4500 - 16s - loss: 0.5304 - accuracy: 0.7307 - val_loss: 0.5129 - val_accuracy: 0.7399\n",
      "Epoch 3/50\n",
      "4500/4500 - 15s - loss: 0.5133 - accuracy: 0.7424 - val_loss: 0.5141 - val_accuracy: 0.7396\n",
      "Epoch 4/50\n",
      "4500/4500 - 14s - loss: 0.5022 - accuracy: 0.7491 - val_loss: 0.5046 - val_accuracy: 0.7489\n",
      "Epoch 5/50\n",
      "4500/4500 - 14s - loss: 0.4930 - accuracy: 0.7565 - val_loss: 0.5023 - val_accuracy: 0.7496\n",
      "Epoch 6/50\n",
      "4500/4500 - 14s - loss: 0.4855 - accuracy: 0.7621 - val_loss: 0.4976 - val_accuracy: 0.7569\n",
      "Epoch 7/50\n",
      "4500/4500 - 14s - loss: 0.4812 - accuracy: 0.7645 - val_loss: 0.4993 - val_accuracy: 0.7551\n",
      "Epoch 8/50\n",
      "4500/4500 - 14s - loss: 0.4751 - accuracy: 0.7681 - val_loss: 0.5003 - val_accuracy: 0.7564\n",
      "Epoch 9/50\n",
      "4500/4500 - 14s - loss: 0.4707 - accuracy: 0.7717 - val_loss: 0.5023 - val_accuracy: 0.7540\n",
      "Epoch 10/50\n",
      "4500/4500 - 14s - loss: 0.4678 - accuracy: 0.7723 - val_loss: 0.5122 - val_accuracy: 0.7436\n",
      "Epoch 11/50\n",
      "4500/4500 - 14s - loss: 0.4644 - accuracy: 0.7745 - val_loss: 0.5055 - val_accuracy: 0.7538\n",
      "Epoch 12/50\n",
      "4500/4500 - 15s - loss: 0.4624 - accuracy: 0.7773 - val_loss: 0.5033 - val_accuracy: 0.7521\n",
      "Epoch 13/50\n",
      "4500/4500 - 15s - loss: 0.4572 - accuracy: 0.7787 - val_loss: 0.5150 - val_accuracy: 0.7479\n",
      "Epoch 14/50\n",
      "4500/4500 - 327s - loss: 0.4564 - accuracy: 0.7789 - val_loss: 0.5124 - val_accuracy: 0.7486\n",
      "Epoch 15/50\n",
      "4500/4500 - 15s - loss: 0.4525 - accuracy: 0.7827 - val_loss: 0.5117 - val_accuracy: 0.7470\n",
      "Epoch 16/50\n",
      "4500/4500 - 14s - loss: 0.4511 - accuracy: 0.7825 - val_loss: 0.5138 - val_accuracy: 0.7484\n",
      "Epoch 17/50\n",
      "4500/4500 - 14s - loss: 0.4499 - accuracy: 0.7835 - val_loss: 0.5133 - val_accuracy: 0.7490\n",
      "Epoch 18/50\n",
      "4500/4500 - 14s - loss: 0.4480 - accuracy: 0.7847 - val_loss: 0.5122 - val_accuracy: 0.7468\n",
      "Epoch 19/50\n",
      "4500/4500 - 14s - loss: 0.4452 - accuracy: 0.7864 - val_loss: 0.5081 - val_accuracy: 0.7524\n",
      "Epoch 20/50\n",
      "4500/4500 - 15s - loss: 0.4454 - accuracy: 0.7862 - val_loss: 0.5196 - val_accuracy: 0.7492\n",
      "Epoch 21/50\n",
      "4500/4500 - 16s - loss: 0.4435 - accuracy: 0.7872 - val_loss: 0.5126 - val_accuracy: 0.7454\n",
      "Epoch 22/50\n",
      "4500/4500 - 14s - loss: 0.4437 - accuracy: 0.7872 - val_loss: 0.5124 - val_accuracy: 0.7492\n",
      "Epoch 23/50\n",
      "4500/4500 - 15s - loss: 0.4426 - accuracy: 0.7882 - val_loss: 0.5123 - val_accuracy: 0.7516\n",
      "Epoch 24/50\n",
      "4500/4500 - 16s - loss: 0.4413 - accuracy: 0.7895 - val_loss: 0.5126 - val_accuracy: 0.7506\n",
      "Epoch 25/50\n",
      "4500/4500 - 15s - loss: 0.4403 - accuracy: 0.7900 - val_loss: 0.5122 - val_accuracy: 0.7492\n",
      "Epoch 26/50\n",
      "4500/4500 - 15s - loss: 0.4388 - accuracy: 0.7896 - val_loss: 0.5169 - val_accuracy: 0.7499\n",
      "Epoch 27/50\n",
      "4500/4500 - 14s - loss: 0.4384 - accuracy: 0.7900 - val_loss: 0.5148 - val_accuracy: 0.7490\n",
      "Epoch 28/50\n",
      "4500/4500 - 14s - loss: 0.4383 - accuracy: 0.7906 - val_loss: 0.5184 - val_accuracy: 0.7508\n",
      "Epoch 29/50\n",
      "4500/4500 - 14s - loss: 0.4361 - accuracy: 0.7911 - val_loss: 0.5179 - val_accuracy: 0.7488\n",
      "Epoch 30/50\n",
      "4500/4500 - 14s - loss: 0.4364 - accuracy: 0.7911 - val_loss: 0.5183 - val_accuracy: 0.7477\n",
      "Epoch 31/50\n",
      "4500/4500 - 15s - loss: 0.4371 - accuracy: 0.7909 - val_loss: 0.5147 - val_accuracy: 0.7508\n",
      "Epoch 32/50\n",
      "4500/4500 - 18s - loss: 0.4353 - accuracy: 0.7917 - val_loss: 0.5156 - val_accuracy: 0.7499\n",
      "Epoch 33/50\n",
      "4500/4500 - 16s - loss: 0.4349 - accuracy: 0.7923 - val_loss: 0.5204 - val_accuracy: 0.7509\n",
      "Epoch 34/50\n",
      "4500/4500 - 17s - loss: 0.4328 - accuracy: 0.7944 - val_loss: 0.5213 - val_accuracy: 0.7514\n",
      "Epoch 35/50\n",
      "4500/4500 - 14s - loss: 0.4331 - accuracy: 0.7937 - val_loss: 0.5176 - val_accuracy: 0.7480\n",
      "Epoch 36/50\n",
      "4500/4500 - 14s - loss: 0.4325 - accuracy: 0.7951 - val_loss: 0.5196 - val_accuracy: 0.7473\n",
      "Epoch 37/50\n",
      "4500/4500 - 14s - loss: 0.4345 - accuracy: 0.7931 - val_loss: 0.5203 - val_accuracy: 0.7492\n",
      "Epoch 38/50\n",
      "4500/4500 - 14s - loss: 0.4331 - accuracy: 0.7934 - val_loss: 0.5182 - val_accuracy: 0.7494\n",
      "Epoch 39/50\n",
      "4500/4500 - 14s - loss: 0.4308 - accuracy: 0.7955 - val_loss: 0.5179 - val_accuracy: 0.7481\n",
      "Epoch 40/50\n",
      "4500/4500 - 14s - loss: 0.4325 - accuracy: 0.7939 - val_loss: 0.5216 - val_accuracy: 0.7513\n",
      "Epoch 41/50\n",
      "4500/4500 - 14s - loss: 0.4323 - accuracy: 0.7942 - val_loss: 0.5217 - val_accuracy: 0.7458\n",
      "Epoch 42/50\n",
      "4500/4500 - 14s - loss: 0.4306 - accuracy: 0.7955 - val_loss: 0.5240 - val_accuracy: 0.7470\n",
      "Epoch 43/50\n",
      "4500/4500 - 14s - loss: 0.4315 - accuracy: 0.7956 - val_loss: 0.5172 - val_accuracy: 0.7470\n",
      "Epoch 44/50\n",
      "4500/4500 - 14s - loss: 0.4306 - accuracy: 0.7959 - val_loss: 0.5198 - val_accuracy: 0.7494\n",
      "Epoch 45/50\n",
      "4500/4500 - 14s - loss: 0.4288 - accuracy: 0.7963 - val_loss: 0.5234 - val_accuracy: 0.7446\n",
      "Epoch 46/50\n",
      "4500/4500 - 14s - loss: 0.4285 - accuracy: 0.7959 - val_loss: 0.5218 - val_accuracy: 0.7481\n",
      "Epoch 47/50\n",
      "4500/4500 - 14s - loss: 0.4287 - accuracy: 0.7965 - val_loss: 0.5216 - val_accuracy: 0.7471\n",
      "Epoch 48/50\n",
      "4500/4500 - 14s - loss: 0.4282 - accuracy: 0.7960 - val_loss: 0.5217 - val_accuracy: 0.7448\n",
      "Epoch 49/50\n",
      "4500/4500 - 14s - loss: 0.4298 - accuracy: 0.7956 - val_loss: 0.5256 - val_accuracy: 0.7458\n",
      "Epoch 50/50\n",
      "4500/4500 - 14s - loss: 0.4283 - accuracy: 0.7967 - val_loss: 0.5281 - val_accuracy: 0.7454\n",
      "Training Complete\n"
     ]
    }
   ],
   "source": [
    "model = tf.keras.Sequential([\n",
    "    tf.keras.layers.Embedding(vocab_size+1, embedding_dim, input_length=max_length, weights=[embeddings_matrix], trainable=False),\n",
    "    tf.keras.layers.Dropout(0.2),\n",
    "    tf.keras.layers.Conv1D(64, 5, activation='relu'),\n",
    "    tf.keras.layers.MaxPooling1D(pool_size=4),\n",
    "    tf.keras.layers.LSTM(64),\n",
    "    tf.keras.layers.Dense(1, activation='sigmoid')\n",
    "])\n",
    "model.compile(loss='binary_crossentropy',optimizer='adam',metrics=['accuracy'])\n",
    "model.summary()\n",
    "\n",
    "num_epochs = 50\n",
    "\n",
    "training_padded = np.array(training_sequences)\n",
    "training_labels = np.array(training_labels)\n",
    "testing_padded = np.array(test_sequences)\n",
    "testing_labels = np.array(test_labels)\n",
    "\n",
    "history = model.fit(training_padded, training_labels, epochs=num_epochs, validation_data=(testing_padded, testing_labels), verbose=2)\n",
    "\n",
    "print(\"Training Complete\")"
   ]
  },
  {
   "cell_type": "code",
   "execution_count": 10,
   "metadata": {
    "id": "qxju4ItJKO8F"
   },
   "outputs": [
    {
     "data": {
      "text/plain": [
       "<Figure size 432x288 with 0 Axes>"
      ]
     },
     "execution_count": 10,
     "metadata": {},
     "output_type": "execute_result"
    },
    {
     "data": {
      "image/png": "[encoded data removed]",
      "text/plain": [
       "<Figure size 432x288 with 1 Axes>"
      ]
     },
     "metadata": {
      "needs_background": "light"
     },
     "output_type": "display_data"
    },
    {
     "data": {
      "image/png": "[encoded data removed]",
      "text/plain": [
       "<Figure size 432x288 with 1 Axes>"
      ]
     },
     "metadata": {
      "needs_background": "light"
     },
     "output_type": "display_data"
    },
    {
     "data": {
      "text/plain": [
       "<Figure size 432x288 with 0 Axes>"
      ]
     },
     "metadata": {},
     "output_type": "display_data"
    }
   ],
   "source": [
    "import matplotlib.image  as mpimg\n",
    "import matplotlib.pyplot as plt\n",
    "\n",
    "#-----------------------------------------------------------\n",
    "# Retrieve a list of list results on training and test data\n",
    "# sets for each training epoch\n",
    "#-----------------------------------------------------------\n",
    "acc=history.history['accuracy']\n",
    "val_acc=history.history['val_accuracy']\n",
    "loss=history.history['loss']\n",
    "val_loss=history.history['val_loss']\n",
    "\n",
    "epochs=range(len(acc)) # Get number of epochs\n",
    "\n",
    "#------------------------------------------------\n",
    "# Plot training and validation accuracy per epoch\n",
    "#------------------------------------------------\n",
    "plt.plot(epochs, acc, 'r')\n",
    "plt.plot(epochs, val_acc, 'b')\n",
    "plt.title('Training and validation accuracy')\n",
    "plt.xlabel(\"Epochs\")\n",
    "plt.ylabel(\"Accuracy\")\n",
    "plt.legend([\"Accuracy\", \"Validation Accuracy\"])\n",
    "\n",
    "plt.figure()\n",
    "\n",
    "#------------------------------------------------\n",
    "# Plot training and validation loss per epoch\n",
    "#------------------------------------------------\n",
    "plt.plot(epochs, loss, 'r')\n",
    "plt.plot(epochs, val_loss, 'b')\n",
    "plt.title('Training and validation loss')\n",
    "plt.xlabel(\"Epochs\")\n",
    "plt.ylabel(\"Loss\")\n",
    "plt.legend([\"Loss\", \"Validation Loss\"])\n",
    "\n",
    "plt.figure()\n",
    "\n",
    "\n",
    "# Expected Output\n",
    "# A chart where the validation loss does not increase sharply!"
   ]
  }
 ],
 "metadata": {
  "accelerator": "GPU",
  "colab": {
   "name": "NLP Course - Week 3 Exercise Answer.ipynb",
   "provenance": [],
   "toc_visible": true
  },
  "kernelspec": {
   "display_name": "Python 3",
   "language": "python",
   "name": "python3"
  },
  "language_info": {
   "codemirror_mode": {
    "name": "ipython",
    "version": 3
   },
   "file_extension": ".py",
   "mimetype": "text/x-python",
   "name": "python",
   "nbconvert_exporter": "python",
   "pygments_lexer": "ipython3",
   "version": "3.8.3"
  }
 },
 "nbformat": 4,
 "nbformat_minor": 1
}
